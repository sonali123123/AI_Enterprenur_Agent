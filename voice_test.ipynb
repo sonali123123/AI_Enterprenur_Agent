{
 "cells": [
  {
   "cell_type": "code",
   "execution_count": 1,
   "id": "9263a284",
   "metadata": {},
   "outputs": [
    {
     "name": "stdout",
     "output_type": "stream",
     "text": [
      "Collecting pyttsx3\n",
      "  Using cached pyttsx3-2.98-py3-none-any.whl.metadata (3.8 kB)\n",
      "Collecting comtypes (from pyttsx3)\n",
      "  Using cached comtypes-1.4.10-py3-none-any.whl.metadata (7.2 kB)\n",
      "Collecting pypiwin32 (from pyttsx3)\n",
      "  Using cached pypiwin32-223-py3-none-any.whl.metadata (236 bytes)\n",
      "Requirement already satisfied: pywin32 in d:\\sonali_ai_projects\\woxsen_projects\\ai_enterpreneur_agent\\enterprenur_agent\\lib\\site-packages (from pyttsx3) (310)\n",
      "Using cached pyttsx3-2.98-py3-none-any.whl (34 kB)\n",
      "Using cached comtypes-1.4.10-py3-none-any.whl (241 kB)\n",
      "Using cached pypiwin32-223-py3-none-any.whl (1.7 kB)\n",
      "Installing collected packages: pypiwin32, comtypes, pyttsx3\n",
      "Successfully installed comtypes-1.4.10 pypiwin32-223 pyttsx3-2.98\n"
     ]
    }
   ],
   "source": [
    "!pip install pyttsx3"
   ]
  },
  {
   "cell_type": "code",
   "execution_count": 3,
   "id": "4ac85bcc",
   "metadata": {},
   "outputs": [
    {
     "name": "stdout",
     "output_type": "stream",
     "text": [
      "All available voices:\n",
      "  0: 'Microsoft David Desktop - English (United States)' (HKEY_LOCAL_MACHINE\\SOFTWARE\\Microsoft\\Speech\\Voices\\Tokens\\TTS_MS_EN-US_DAVID_11.0)  langs: \n",
      "  1: 'Microsoft Zira Desktop - English (United States)' (HKEY_LOCAL_MACHINE\\SOFTWARE\\Microsoft\\Speech\\Voices\\Tokens\\TTS_MS_EN-US_ZIRA_11.0)  langs: \n",
      "\n",
      "Likely male voices:\n"
     ]
    }
   ],
   "source": [
    "import pyttsx3\n",
    "\n",
    "# 1. initialize engine and grab voices\n",
    "engine = pyttsx3.init()\n",
    "voices = engine.getProperty('voices')\n",
    "\n",
    "# 2. list them all\n",
    "print(\"All available voices:\")\n",
    "for i, v in enumerate(voices):\n",
    "    langs = \", \".join(v.languages or [])\n",
    "    print(f\" {i:2d}: {v.name!r} ({v.id})  langs: {langs}\")\n",
    "\n",
    "# 3. filter for “male” (this works if your voices include +m or 'male' in their id/name)\n",
    "male_voices = [\n",
    "    (i, v) for i, v in enumerate(voices)\n",
    "    if 'male' in v.name.lower() or '+m' in v.id.lower()\n",
    "]\n",
    "print(\"\\nLikely male voices:\")\n",
    "for i, v in male_voices:\n",
    "    print(f\" {i:2d}: {v.name!r} ({v.id})\")\n",
    "\n",
    "\n"
   ]
  },
  {
   "cell_type": "code",
   "execution_count": null,
   "id": "b024d515",
   "metadata": {},
   "outputs": [],
   "source": [
    "\n",
    "# 4. pick one safely\n",
    "choice = int(input(\"\\nEnter the index of the voice you want to try: \"))\n",
    "if not (0 <= choice < len(voices)):\n",
    "    print(f\"❌ Invalid index: {choice}\")\n",
    "    exit(1)\n",
    "\n",
    "engine.setProperty('voice', voices[choice].id)\n",
    "\n",
    "# 5. adjust rate & volume\n",
    "engine.setProperty('rate', 140)   # slower → deeper\n",
    "engine.setProperty('volume', 0.8)\n",
    "\n",
    "# 6. (Optional) try pitch on espeak backends\n",
    "try:\n",
    "    current_pitch = engine.getProperty('pitch')\n",
    "    print(f\"Current pitch: {current_pitch}\")\n",
    "    engine.setProperty('pitch', 50)  # lower → deeper\n",
    "except Exception:\n",
    "    print(\"⚠️ Pitch adjustment not supported on this driver.\")\n",
    "\n",
    "# Test it\n",
    "engine.save_to_file(\"Hello! It's great to meet you. I'm here to help and support you in any way I can.Before we get started, I want to make sure I understand your situation a bit better.\", \"test_voice.mp3\")\n",
    "engine.runAndWait()\n",
    "print(\"Wrote test_voice.mp3. Play it to hear the result.\")"
   ]
  },
  {
   "cell_type": "code",
   "execution_count": null,
   "id": "35ac026c",
   "metadata": {},
   "outputs": [],
   "source": []
  }
 ],
 "metadata": {
  "kernelspec": {
   "display_name": "enterprenur_agent",
   "language": "python",
   "name": "python3"
  },
  "language_info": {
   "codemirror_mode": {
    "name": "ipython",
    "version": 3
   },
   "file_extension": ".py",
   "mimetype": "text/x-python",
   "name": "python",
   "nbconvert_exporter": "python",
   "pygments_lexer": "ipython3",
   "version": "3.12.10"
  }
 },
 "nbformat": 4,
 "nbformat_minor": 5
}
